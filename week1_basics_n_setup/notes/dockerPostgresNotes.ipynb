{
 "cells": [
  {
   "cell_type": "markdown",
   "metadata": {},
   "source": [
    "# Docker + Postgres Notes\n",
    "### This notebook contains helpful cmds and snippets for:\n",
    "* Creating docker containers with images such as pgadmin and postgres13\n",
    "* Configuring a network for communication betweeen containers\n",
    "* Creating local volume mounts for data persistence between container lifecycles"
   ]
  },
  {
   "cell_type": "markdown",
   "metadata": {},
   "source": [
    "In order to see what is currently running on a `<port>`:\n",
    "\n",
    "```\n",
    "sudo lsof -i :<port>\n",
    "```\n",
    "In order to kill a process that is currently running:\n",
    "```\n",
    "kill <pid>\n",
    "```\n",
    "\n",
    "*Note: Running the first cmd exposes the PID*"
   ]
  },
  {
   "cell_type": "markdown",
   "metadata": {},
   "source": [
    "To create docker network:\n",
    "\n",
    "\n",
    "```\n",
    "docker network create --name\n",
    "```"
   ]
  },
  {
   "cell_type": "markdown",
   "metadata": {},
   "source": [
    "In order to create docker image with locally instantiated docker volume:\n",
    "```\n",
    "docker run -it -e POSTGRES_USER=\"root\" -e POSTGRES_PASSWORD=\"root\" -e POSTGRES_DB=\"ny_taxi\" -v dtc_postgres_volume_local:/var/lib/postgresql/data -p 5432:5432 postgres:13\n",
    "```"
   ]
  },
  {
   "cell_type": "markdown",
   "metadata": {},
   "source": [
    "In order to interact with docker image created above:\n",
    "\n",
    "```\n",
    "pgcli -h localhost -p 5432 -u root -d ny_taxi\n",
    "```"
   ]
  },
  {
   "cell_type": "markdown",
   "metadata": {},
   "source": [
    "In order to convert ipynb to .py script\n",
    "\n",
    "```\n",
    "jupyter nbconvert --to=script {NAME_OF_NOTEBOOK}.ipynb\n",
    "```"
   ]
  },
  {
   "cell_type": "markdown",
   "metadata": {},
   "source": [
    "In order to create Postgres Database instance on a docker network.\n",
    "\n",
    "```\n",
    "docker run -it -e POSTGRES_USER=\"root\" -e POSTGRES_PASSWORD=\"root\" -e POSTGRES_DB=\"ny_taxi\" -v dtc_postgres_volume_local:/var/lib/postgresql/data -p 5432:5432 --network=pg-network --name {DB_NAME} postgres:13\n",
    "```"
   ]
  },
  {
   "cell_type": "markdown",
   "metadata": {},
   "source": [
    "In order to create Pgadmin instance on a docker network.\n",
    "\n",
    "\n",
    "```\n",
    "docker run -it -e PGADMIN_DEFAULT_EMAIL=\"admin@admin.com\" -e PGADMIN_DEFAULT_PASSWORD=\"root\" -p 8080:80 --network=pg-network --name pg-admin dpage/pgadmin4\n",
    "```"
   ]
  },
  {
   "cell_type": "markdown",
   "metadata": {},
   "source": [
    "In order to run .py file with associated arguments, captured with argparse\n",
    "\n",
    "```\n",
    "python data-migration-postgres.py --user=root --password=root --host=localhost --port=5432 --db=ny_taxi --table_name=yellow_taxi_trips --url=${URL}\n",
    "```"
   ]
  },
  {
   "cell_type": "markdown",
   "metadata": {},
   "source": [
    "In order to build data-migration:v001 container with Dockerfile in root project directory:\n",
    "\n",
    "```\n",
    "docker build -t data-migration:v001 .\n",
    "```\n",
    "\n",
    "Here is a Dockerfile with specifications for pip installation, file generation, and execution flow for the container you created with the above build command\n",
    "```\n",
    "FROM python:3.9\n",
    "\n",
    "RUN pip install pandas sqlalchemy psycopg2 fastparquet\n",
    "\n",
    "WORKDIR /app\n",
    "COPY data-migration-postgres.py data-migration-postgres.py\n",
    "\n",
    "ENTRYPOINT [ \"python\", \"data-migration-postgres.py\" ]\n",
    "```"
   ]
  },
  {
   "cell_type": "markdown",
   "metadata": {},
   "source": [
    "Define bash variable URL and then run previously created docker container and the shared docker network:\n",
    "\n",
    "```\n",
    "URL=\"https://s3.amazonaws.com/nyc-tlc/trip+data/yellow_tripdata_2021-01.parquet\"\n",
    "```\n",
    "```\n",
    "docker run -it --network=pg-network data-migration:v001 --user=root --password=root --host={DB_NAME} --port=5432 --db=ny_taxi --table_name=yellow_taxi_trips --url=${URL}\n",
    "```"
   ]
  },
  {
   "cell_type": "markdown",
   "metadata": {},
   "source": [
    "Example docker-compose that creates pgadmin container and postgres container on a shared network, with specified local volumes responsible for persisting data across runs. (Make sure to create volumes prior to running)\n",
    "\n",
    "```\n",
    "services:\n",
    "  pgdatabase:\n",
    "    image: postgres:13\n",
    "    environment:\n",
    "      - POSTGRES_USER=root\n",
    "      - POSTGRES_PASSWORD=root\n",
    "      - POSTGRES_DB=ny_taxi\n",
    "    volumes: \n",
    "      - \"./source/volumes/pgdatabase:/var/lib/postgresql/data:rw\"\n",
    "    ports:\n",
    "      - \"5432:5432\"\n",
    "  pgadmin:\n",
    "    image: dpage/pgadmin4\n",
    "    environment:\n",
    "      - PGADMIN_DEFAULT_EMAIL=admin@admin.com\n",
    "      - PGADMIN_DEFAULT_PASSWORD=root\n",
    "    volumes:\n",
    "      - \"./source/volumes/pgadmin:/var/lib/pgadmin:rw\"\n",
    "    ports:\n",
    "      - \"8080:80\"\n",
    "networks:\n",
    "  default:\n",
    "    name: pg-network\n",
    "```"
   ]
  },
  {
   "cell_type": "markdown",
   "metadata": {},
   "source": [
    "To change the permissions of a directory (in order to use it as a local storage for data persistence between container runs)\n",
    "\n",
    "```\n",
    "sudo chown 5050:5050 data_pgadmin\n",
    "```"
   ]
  },
  {
   "cell_type": "markdown",
   "metadata": {},
   "source": [
    "Docker CMDS:\n",
    "\n",
    "```\n",
    "docker ps | Lists all currently active docker containers\n",
    "docker volume ls | Lists all currently active .docker/volumes\n",
    "docker-compose up -d | Runs docker-compose to create containeres on shared network in detached mode to free up the CLI\n",
    "docker-compose down | Shuts down docker-compose containers on network if currently live\n",
    "docker volume rm {NAME_OF_VOLUME}\n",
    "docker logs {NAME OF RUNNING DOCKER CONTAINER}\n",
    "```"
   ]
  },
  {
   "cell_type": "markdown",
   "metadata": {},
   "source": []
  }
 ],
 "metadata": {
  "kernelspec": {
   "display_name": "Python 3",
   "language": "python",
   "name": "python3"
  },
  "language_info": {
   "codemirror_mode": {
    "name": "ipython",
    "version": 3
   },
   "file_extension": ".py",
   "mimetype": "text/x-python",
   "name": "python",
   "nbconvert_exporter": "python",
   "pygments_lexer": "ipython3",
   "version": "3.8.3"
  }
 },
 "nbformat": 4,
 "nbformat_minor": 4
}
