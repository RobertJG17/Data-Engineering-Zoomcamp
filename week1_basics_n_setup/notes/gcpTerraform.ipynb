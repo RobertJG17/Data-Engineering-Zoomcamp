{
 "cells": [
  {
   "cell_type": "markdown",
   "metadata": {},
   "source": [
    "# GCP Terraform Notes\n",
    "### This notebook contains helpful cmds and snippets for:\n",
    "* Initializing a terraform project and scripts necessary for provisioning GCP resources like GCS Buckets and BigQuery Schemas"
   ]
  },
  {
   "cell_type": "markdown",
   "metadata": {},
   "source": []
  }
 ],
 "metadata": {
  "language_info": {
   "name": "python"
  },
  "orig_nbformat": 4
 },
 "nbformat": 4,
 "nbformat_minor": 2
}
