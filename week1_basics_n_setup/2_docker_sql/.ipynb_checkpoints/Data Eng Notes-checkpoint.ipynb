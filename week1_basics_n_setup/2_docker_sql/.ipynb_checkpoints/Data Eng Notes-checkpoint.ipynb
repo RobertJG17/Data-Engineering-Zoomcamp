{
 "cells": [
  {
   "cell_type": "markdown",
   "metadata": {},
   "source": [
    "# Docker + Postgres Notes\n",
    "### This notebook contains helpful cmds and snippets related to creating Postgres based docker images."
   ]
  },
  {
   "cell_type": "markdown",
   "metadata": {},
   "source": [
    "In order to see what is currently running on a `<port>`:\n",
    "\n",
    "```\n",
    "sudo lsof -i :<port>\n",
    "```\n",
    "In order to kill a process that is currently running:\n",
    "```\n",
    "kill <pid>\n",
    "```\n",
    "\n",
    "*Note: Running the first cmd exposes the PID*"
   ]
  },
  {
   "cell_type": "markdown",
   "metadata": {},
   "source": [
    "In order to create local docker volume:\n",
    "\n",
    "```\n",
    "docker volume create --name dtc_postgres_volume_local -d local\n",
    "```"
   ]
  },
  {
   "cell_type": "markdown",
   "metadata": {},
   "source": [
    "In order to create docker image with locally instantiated docker volume:\n",
    "```\n",
    "docker run -it -e POSTGRES_USER=\"root\" -e POSTGRES_PASSWORD=\"root\" -e POSTGRES_DB=\"ny_taxi\" -v dtc_postgres_volume_local:/var/lib/postgresql/data -p 5432:5432 postgres:13\n",
    "```"
   ]
  },
  {
   "cell_type": "markdown",
   "metadata": {},
   "source": [
    "In order to interact with docker image created above:\n",
    "\n",
    "```\n",
    "pgcli -h localhost -p 5432 -u root -d ny_taxi\n",
    "```"
   ]
  },
  {
   "cell_type": "code",
   "execution_count": null,
   "metadata": {},
   "outputs": [],
   "source": []
  }
 ],
 "metadata": {
  "kernelspec": {
   "display_name": "Python 3",
   "language": "python",
   "name": "python3"
  },
  "language_info": {
   "codemirror_mode": {
    "name": "ipython",
    "version": 3
   },
   "file_extension": ".py",
   "mimetype": "text/x-python",
   "name": "python",
   "nbconvert_exporter": "python",
   "pygments_lexer": "ipython3",
   "version": "3.8.3"
  }
 },
 "nbformat": 4,
 "nbformat_minor": 4
}
